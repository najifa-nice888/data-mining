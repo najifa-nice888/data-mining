{
 "cells": [
  {
   "cell_type": "code",
   "execution_count": 2,
   "metadata": {},
   "outputs": [
    {
     "name": "stdout",
     "output_type": "stream",
     "text": [
      "    Application_No  HighSchool_GPA  Physics_Marks  Chem_Marks  Biology_Marks\n",
      "0             1036             4.5             78          85             76\n",
      "1             1072             3.0             98         105             96\n",
      "2             1294             4.1             88          95             86\n",
      "3             1294             3.3             78          85             76\n",
      "4             1294             3.1             67          74             65\n",
      "..             ...             ...            ...         ...            ...\n",
      "61            1125             2.9             87          94             85\n",
      "62            1080             2.4             56          63             54\n",
      "63            1259             3.2             54          61             52\n",
      "64            1152             4.5             33          40             31\n",
      "65            1029             3.0             67          74             65\n",
      "\n",
      "[66 rows x 5 columns]\n"
     ]
    }
   ],
   "source": [
    "import pandas as pd\n",
    "dataframe = pd.read_csv(\"candidates-marks_complete.csv\")\n",
    "print(dataframe)"
   ]
  },
  {
   "cell_type": "code",
   "execution_count": 3,
   "metadata": {},
   "outputs": [
    {
     "name": "stdout",
     "output_type": "stream",
     "text": [
      "   Application_No  HighSchool_GPA  Physics_Marks  Chem_Marks  Biology_Marks\n",
      "0            1036             4.5             78          85             76\n",
      "1            1072             3.0             98         105             96\n",
      "2            1294             4.1             88          95             86\n",
      "3            1294             3.3             78          85             76\n",
      "4            1294             3.1             67          74             65\n",
      "5            1467             2.9             87          94             85\n",
      "6            1039             2.4             56          63             54\n",
      "7            1467             3.2             45          52             43\n",
      "8            1021             4.5             76          83             74\n",
      "9            1016             3.0             87          94             85\n"
     ]
    }
   ],
   "source": [
    "print(dataframe.head(10))\n"
   ]
  },
  {
   "cell_type": "code",
   "execution_count": 5,
   "metadata": {},
   "outputs": [
    {
     "name": "stdout",
     "output_type": "stream",
     "text": [
      "    Application_No  HighSchool_GPA  Physics_Marks  Chem_Marks  Biology_Marks\n",
      "56            1033             4.5             67          74             65\n",
      "57            1491             3.0             87          94             85\n",
      "58            1063             4.1             56          63             54\n",
      "59            1472             3.3             45          52             43\n",
      "60            1498             3.1             76          83             74\n",
      "61            1125             2.9             87          94             85\n",
      "62            1080             2.4             56          63             54\n",
      "63            1259             3.2             54          61             52\n",
      "64            1152             4.5             33          40             31\n",
      "65            1029             3.0             67          74             65\n"
     ]
    }
   ],
   "source": [
    "print(dataframe.tail(10))"
   ]
  },
  {
   "cell_type": "code",
   "execution_count": 4,
   "metadata": {},
   "outputs": [
    {
     "name": "stdout",
     "output_type": "stream",
     "text": [
      "Index(['Application_No', 'HighSchool_GPA', 'Physics_Marks', 'Chem_Marks',\n",
      "       'Biology_Marks'],\n",
      "      dtype='object')\n"
     ]
    }
   ],
   "source": [
    "print(dataframe.columns)\n"
   ]
  },
  {
   "cell_type": "code",
   "execution_count": 6,
   "metadata": {},
   "outputs": [
    {
     "data": {
      "text/html": [
       "<div>\n",
       "<style scoped>\n",
       "    .dataframe tbody tr th:only-of-type {\n",
       "        vertical-align: middle;\n",
       "    }\n",
       "\n",
       "    .dataframe tbody tr th {\n",
       "        vertical-align: top;\n",
       "    }\n",
       "\n",
       "    .dataframe thead th {\n",
       "        text-align: right;\n",
       "    }\n",
       "</style>\n",
       "<table border=\"1\" class=\"dataframe\">\n",
       "  <thead>\n",
       "    <tr style=\"text-align: right;\">\n",
       "      <th></th>\n",
       "      <th>Application_No</th>\n",
       "      <th>HighSchool_GPA</th>\n",
       "      <th>Physics_Marks</th>\n",
       "      <th>Chem_Marks</th>\n",
       "      <th>Biology_Marks</th>\n",
       "    </tr>\n",
       "  </thead>\n",
       "  <tbody>\n",
       "    <tr>\n",
       "      <th>0</th>\n",
       "      <td>1036</td>\n",
       "      <td>4.5</td>\n",
       "      <td>78</td>\n",
       "      <td>85</td>\n",
       "      <td>76</td>\n",
       "    </tr>\n",
       "    <tr>\n",
       "      <th>1</th>\n",
       "      <td>1072</td>\n",
       "      <td>3.0</td>\n",
       "      <td>98</td>\n",
       "      <td>105</td>\n",
       "      <td>96</td>\n",
       "    </tr>\n",
       "    <tr>\n",
       "      <th>2</th>\n",
       "      <td>1294</td>\n",
       "      <td>4.1</td>\n",
       "      <td>88</td>\n",
       "      <td>95</td>\n",
       "      <td>86</td>\n",
       "    </tr>\n",
       "    <tr>\n",
       "      <th>3</th>\n",
       "      <td>1294</td>\n",
       "      <td>3.3</td>\n",
       "      <td>78</td>\n",
       "      <td>85</td>\n",
       "      <td>76</td>\n",
       "    </tr>\n",
       "    <tr>\n",
       "      <th>4</th>\n",
       "      <td>1294</td>\n",
       "      <td>3.1</td>\n",
       "      <td>67</td>\n",
       "      <td>74</td>\n",
       "      <td>65</td>\n",
       "    </tr>\n",
       "    <tr>\n",
       "      <th>...</th>\n",
       "      <td>...</td>\n",
       "      <td>...</td>\n",
       "      <td>...</td>\n",
       "      <td>...</td>\n",
       "      <td>...</td>\n",
       "    </tr>\n",
       "    <tr>\n",
       "      <th>61</th>\n",
       "      <td>1125</td>\n",
       "      <td>2.9</td>\n",
       "      <td>87</td>\n",
       "      <td>94</td>\n",
       "      <td>85</td>\n",
       "    </tr>\n",
       "    <tr>\n",
       "      <th>62</th>\n",
       "      <td>1080</td>\n",
       "      <td>2.4</td>\n",
       "      <td>56</td>\n",
       "      <td>63</td>\n",
       "      <td>54</td>\n",
       "    </tr>\n",
       "    <tr>\n",
       "      <th>63</th>\n",
       "      <td>1259</td>\n",
       "      <td>3.2</td>\n",
       "      <td>54</td>\n",
       "      <td>61</td>\n",
       "      <td>52</td>\n",
       "    </tr>\n",
       "    <tr>\n",
       "      <th>64</th>\n",
       "      <td>1152</td>\n",
       "      <td>4.5</td>\n",
       "      <td>33</td>\n",
       "      <td>40</td>\n",
       "      <td>31</td>\n",
       "    </tr>\n",
       "    <tr>\n",
       "      <th>65</th>\n",
       "      <td>1029</td>\n",
       "      <td>3.0</td>\n",
       "      <td>67</td>\n",
       "      <td>74</td>\n",
       "      <td>65</td>\n",
       "    </tr>\n",
       "  </tbody>\n",
       "</table>\n",
       "<p>66 rows × 5 columns</p>\n",
       "</div>"
      ],
      "text/plain": [
       "    Application_No  HighSchool_GPA  Physics_Marks  Chem_Marks  Biology_Marks\n",
       "0             1036             4.5             78          85             76\n",
       "1             1072             3.0             98         105             96\n",
       "2             1294             4.1             88          95             86\n",
       "3             1294             3.3             78          85             76\n",
       "4             1294             3.1             67          74             65\n",
       "..             ...             ...            ...         ...            ...\n",
       "61            1125             2.9             87          94             85\n",
       "62            1080             2.4             56          63             54\n",
       "63            1259             3.2             54          61             52\n",
       "64            1152             4.5             33          40             31\n",
       "65            1029             3.0             67          74             65\n",
       "\n",
       "[66 rows x 5 columns]"
      ]
     },
     "execution_count": 6,
     "metadata": {},
     "output_type": "execute_result"
    }
   ],
   "source": [
    "df = dataframe.replace('Application_No', float(\"nan\"))\n",
    "df"
   ]
  },
  {
   "cell_type": "code",
   "execution_count": 7,
   "metadata": {},
   "outputs": [
    {
     "name": "stdout",
     "output_type": "stream",
     "text": [
      "    Application_No  HighSchool_GPA  Physics_Marks  Chem_Marks  Biology_Marks\n",
      "0             1036             4.5             78          85             76\n",
      "1             1072             3.0             98         105             96\n",
      "2             1294             4.1             88          95             86\n",
      "3             1294             3.3             78          85             76\n",
      "4             1294             3.1             67          74             65\n",
      "..             ...             ...            ...         ...            ...\n",
      "61            1125             2.9             87          94             85\n",
      "62            1080             2.4             56          63             54\n",
      "63            1259             3.2             54          61             52\n",
      "64            1152             4.5             33          40             31\n",
      "65            1029             3.0             67          74             65\n",
      "\n",
      "[66 rows x 5 columns]\n"
     ]
    }
   ],
   "source": [
    "cdf = df.dropna()\n",
    "print(cdf)"
   ]
  },
  {
   "cell_type": "code",
   "execution_count": 8,
   "metadata": {},
   "outputs": [
    {
     "name": "stdout",
     "output_type": "stream",
     "text": [
      "Empty DataFrame\n",
      "Columns: []\n",
      "Index: [0, 1, 2, 3, 4, 5, 6, 7, 8, 9, 10, 11, 12, 13, 14, 15, 16, 17, 18, 19, 20, 21, 22, 23, 24, 25, 26, 27, 28, 29, 30, 31, 32, 33, 34, 35, 36, 37, 38, 39, 40, 41, 42, 43, 44, 45, 46, 47, 48, 49, 50, 51, 52, 53, 54, 55, 56, 57, 58, 59, 60, 61, 62, 63, 64, 65]\n",
      "\n",
      "[66 rows x 0 columns]\n"
     ]
    }
   ],
   "source": [
    "df1=cdf.drop([\"Application_No\",\"HighSchool_GPA\",\"Physics_Marks\",\"Chem_Marks\",\"Biology_Marks\"], axis=1)\n",
    "print(df1)"
   ]
  },
  {
   "cell_type": "code",
   "execution_count": 11,
   "metadata": {},
   "outputs": [
    {
     "data": {
      "image/png": "[encoded data removed]",
      "text/plain": [
       "<Figure size 432x288 with 1 Axes>"
      ]
     },
     "metadata": {
      "needs_background": "light"
     },
     "output_type": "display_data"
    }
   ],
   "source": [
    "import matplotlib.pyplot as plt\n",
    "plt.scatter(cdf.Physics_Marks,cdf.Chem_Marks)\n",
    "plt.xlabel('Physics_Marks')\n",
    "plt.ylabel('Chem_Marks')\n",
    "plt.show()\n"
   ]
  },
  {
   "cell_type": "code",
   "execution_count": 12,
   "metadata": {},
   "outputs": [
    {
     "name": "stdout",
     "output_type": "stream",
     "text": [
      "Empty DataFrame\n",
      "Columns: []\n",
      "Index: [0, 1, 2, 3, 4, 5, 6, 7, 8, 9, 10, 11, 12, 13, 14, 15, 16, 17, 18, 19, 20, 21, 22, 23, 24, 25, 26, 27, 28, 29, 30, 31, 32, 33, 34, 35, 36, 37, 38, 39, 40, 41, 42, 43, 44, 45, 46, 47, 48, 49, 50, 51, 52, 53, 54, 55, 56, 57, 58, 59, 60, 61, 62, 63, 64, 65]\n",
      "\n",
      "[66 rows x 0 columns]\n"
     ]
    }
   ],
   "source": [
    "df1=cdf.drop([\"Application_No\",\"HighSchool_GPA\",\"Physics_Marks\",\"Chem_Marks\",\"Biology_Marks\"],axis=1)\n",
    "print(df1)"
   ]
  },
  {
   "cell_type": "code",
   "execution_count": 13,
   "metadata": {},
   "outputs": [
    {
     "name": "stdout",
     "output_type": "stream",
     "text": [
      "covariance:\n",
      "370.23776223776247\n"
     ]
    }
   ],
   "source": [
    "import numpy as np\n",
    "a=np.cov(cdf.Physics_Marks,cdf.Chem_Marks)\n",
    "print(\"covariance:\")\n",
    "print(a[0,1])"
   ]
  },
  {
   "cell_type": "markdown",
   "metadata": {},
   "source": [
    "this is the high covariance.Basically indicates there is strong relationship between the varibales. "
   ]
  },
  {
   "cell_type": "code",
   "execution_count": 20,
   "metadata": {},
   "outputs": [],
   "source": [
    "def pearson(x,y):\n",
    " correlation_matrix=np.corrcoef(x,y)\n",
    " return correlation_matrix[0,1]\n",
    "r = pearson(df.Physics_Marks,df.Chem_Marks)"
   ]
  },
  {
   "cell_type": "code",
   "execution_count": 21,
   "metadata": {},
   "outputs": [
    {
     "name": "stdout",
     "output_type": "stream",
     "text": [
      "correlation: \n",
      "1.0\n"
     ]
    }
   ],
   "source": [
    "\n",
    "print(\"correlation: \")\n",
    "print(r)\n"
   ]
  },
  {
   "cell_type": "markdown",
   "metadata": {},
   "source": [
    "A correlation of 1.0 shows a perfect positive correlation"
   ]
  },
  {
   "cell_type": "markdown",
   "metadata": {},
   "source": [
    "full correlation so increase in physics marks means increase in chemistry marks"
   ]
  }
 ],
 "metadata": {
  "kernelspec": {
   "display_name": "Python 3",
   "language": "python",
   "name": "python3"
  },
  "language_info": {
   "codemirror_mode": {
    "name": "ipython",
    "version": 3
   },
   "file_extension": ".py",
   "mimetype": "text/x-python",
   "name": "python",
   "nbconvert_exporter": "python",
   "pygments_lexer": "ipython3",
   "version": "3.8.5"
  }
 },
 "nbformat": 4,
 "nbformat_minor": 4
}
